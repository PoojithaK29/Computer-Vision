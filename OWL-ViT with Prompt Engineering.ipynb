#Open surce Vision Transformers OWL ViT
#implementation
#hugging face import
#used for -image classification
